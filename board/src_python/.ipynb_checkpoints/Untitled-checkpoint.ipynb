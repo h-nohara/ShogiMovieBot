{
 "cells": [
  {
   "cell_type": "code",
   "execution_count": 1,
   "metadata": {},
   "outputs": [],
   "source": [
    "import os ,sys, pickle, shutil, copy\n",
    "import numpy as np"
   ]
  },
  {
   "cell_type": "code",
   "execution_count": 11,
   "metadata": {},
   "outputs": [
    {
     "data": {
      "text/plain": [
       "'/Users/nohara/Desktop/shogi/original_shogi_api/app/src_python'"
      ]
     },
     "execution_count": 11,
     "metadata": {},
     "output_type": "execute_result"
    }
   ],
   "source": [
    "pwd"
   ]
  },
  {
   "cell_type": "code",
   "execution_count": 2,
   "metadata": {},
   "outputs": [
    {
     "data": {
      "text/plain": [
       "'../data/pickles/now.pickle'"
      ]
     },
     "execution_count": 2,
     "metadata": {},
     "output_type": "execute_result"
    }
   ],
   "source": [
    "\"../data/pickles/now.pickle\""
   ]
  },
  {
   "cell_type": "code",
   "execution_count": 3,
   "metadata": {},
   "outputs": [],
   "source": [
    "with open(\"../data/pickles/now.pickle\", \"rb\") as f:\n",
    "    result = pickle.load(f)"
   ]
  },
  {
   "cell_type": "code",
   "execution_count": 4,
   "metadata": {},
   "outputs": [],
   "source": [
    "history = result[\"history\"]"
   ]
  },
  {
   "cell_type": "code",
   "execution_count": 5,
   "metadata": {},
   "outputs": [
    {
     "name": "stdout",
     "output_type": "stream",
     "text": [
      "dict_keys(['move', 'move_str', 'order_in_parent', 'board_state', 'is_watching'])\n",
      "dict_keys(['message', 'board_state', 'is_watching', 'order_in_parent'])\n"
     ]
    }
   ],
   "source": [
    "for action in history:\n",
    "    print(action.keys())"
   ]
  },
  {
   "cell_type": "code",
   "execution_count": 6,
   "metadata": {},
   "outputs": [
    {
     "data": {
      "text/plain": [
       "{'board_state': {'all_pieces': {'hand': {'gote': {'FU': 0,\n",
       "     'GI': 0,\n",
       "     'HI': 0,\n",
       "     'KA': 0,\n",
       "     'KE': 0,\n",
       "     'KI': 0,\n",
       "     'KY': 0},\n",
       "    'sente': {'FU': 0, 'GI': 0, 'HI': 0, 'KA': 0, 'KE': 0, 'KI': 0, 'KY': 0}},\n",
       "   'main': {'11': {'is_sente': False, 'loc': '11', 'name': 'KY'},\n",
       "    '12': None,\n",
       "    '13': {'is_sente': False, 'loc': '13', 'name': 'FU'},\n",
       "    '14': None,\n",
       "    '15': None,\n",
       "    '16': None,\n",
       "    '17': {'is_sente': True, 'loc': '17', 'name': 'FU'},\n",
       "    '18': None,\n",
       "    '19': {'is_sente': True, 'loc': '19', 'name': 'KY'},\n",
       "    '21': {'is_sente': False, 'loc': '21', 'name': 'KE'},\n",
       "    '22': {'is_sente': False, 'loc': '22', 'name': 'KA'},\n",
       "    '23': {'is_sente': False, 'loc': '23', 'name': 'FU'},\n",
       "    '24': None,\n",
       "    '25': None,\n",
       "    '26': None,\n",
       "    '27': {'is_sente': True, 'loc': '27', 'name': 'FU'},\n",
       "    '28': {'is_sente': True, 'loc': '28', 'name': 'HI'},\n",
       "    '29': {'is_sente': True, 'loc': '29', 'name': 'KE'},\n",
       "    '31': {'is_sente': False, 'loc': '31', 'name': 'GI'},\n",
       "    '32': None,\n",
       "    '33': {'is_sente': False, 'loc': '33', 'name': 'FU'},\n",
       "    '34': None,\n",
       "    '35': None,\n",
       "    '36': None,\n",
       "    '37': {'is_sente': True, 'loc': '37', 'name': 'FU'},\n",
       "    '38': None,\n",
       "    '39': {'is_sente': True, 'loc': '39', 'name': 'GI'},\n",
       "    '41': {'is_sente': False, 'loc': '41', 'name': 'KI'},\n",
       "    '42': None,\n",
       "    '43': {'is_sente': False, 'loc': '43', 'name': 'FU'},\n",
       "    '44': None,\n",
       "    '45': None,\n",
       "    '46': None,\n",
       "    '47': {'is_sente': True, 'loc': '47', 'name': 'FU'},\n",
       "    '48': None,\n",
       "    '49': {'is_sente': True, 'loc': '49', 'name': 'KI'},\n",
       "    '51': {'is_sente': False, 'loc': '51', 'name': 'OU'},\n",
       "    '52': None,\n",
       "    '53': {'is_sente': False, 'loc': '53', 'name': 'FU'},\n",
       "    '54': None,\n",
       "    '55': None,\n",
       "    '56': None,\n",
       "    '57': {'is_sente': True, 'loc': '57', 'name': 'FU'},\n",
       "    '58': None,\n",
       "    '59': {'is_sente': True, 'loc': '59', 'name': 'OU'},\n",
       "    '61': {'is_sente': False, 'loc': '61', 'name': 'KI'},\n",
       "    '62': None,\n",
       "    '63': {'is_sente': False, 'loc': '63', 'name': 'FU'},\n",
       "    '64': None,\n",
       "    '65': None,\n",
       "    '66': None,\n",
       "    '67': {'is_sente': True, 'loc': '67', 'name': 'FU'},\n",
       "    '68': None,\n",
       "    '69': {'is_sente': True, 'loc': '69', 'name': 'KI'},\n",
       "    '71': {'is_sente': False, 'loc': '71', 'name': 'GI'},\n",
       "    '72': None,\n",
       "    '73': {'is_sente': False, 'loc': '73', 'name': 'FU'},\n",
       "    '74': None,\n",
       "    '75': None,\n",
       "    '76': None,\n",
       "    '77': {'is_sente': True, 'loc': '77', 'name': 'FU'},\n",
       "    '78': None,\n",
       "    '79': {'is_sente': True, 'loc': '79', 'name': 'GI'},\n",
       "    '81': {'is_sente': False, 'loc': '81', 'name': 'KE'},\n",
       "    '82': {'is_sente': False, 'loc': '82', 'name': 'HI'},\n",
       "    '83': {'is_sente': False, 'loc': '83', 'name': 'FU'},\n",
       "    '84': None,\n",
       "    '85': None,\n",
       "    '86': None,\n",
       "    '87': {'is_sente': True, 'loc': '87', 'name': 'FU'},\n",
       "    '88': {'is_sente': True, 'loc': '88', 'name': 'KA'},\n",
       "    '89': {'is_sente': True, 'loc': '89', 'name': 'KE'},\n",
       "    '91': {'is_sente': False, 'loc': '91', 'name': 'KY'},\n",
       "    '92': None,\n",
       "    '93': {'is_sente': False, 'loc': '93', 'name': 'FU'},\n",
       "    '94': None,\n",
       "    '95': None,\n",
       "    '96': None,\n",
       "    '97': {'is_sente': True, 'loc': '97', 'name': 'FU'},\n",
       "    '98': None,\n",
       "    '99': {'is_sente': True, 'loc': '99', 'name': 'KY'}}},\n",
       "  'board_history': [{'all_pieces': {'hand': {'gote': {'FU': 0,\n",
       "       'GI': 0,\n",
       "       'HI': 0,\n",
       "       'KA': 0,\n",
       "       'KE': 0,\n",
       "       'KI': 0,\n",
       "       'KY': 0},\n",
       "      'sente': {'FU': 0,\n",
       "       'GI': 0,\n",
       "       'HI': 0,\n",
       "       'KA': 0,\n",
       "       'KE': 0,\n",
       "       'KI': 0,\n",
       "       'KY': 0}},\n",
       "     'main': {'11': {'is_sente': False, 'loc': '11', 'name': 'KY'},\n",
       "      '12': None,\n",
       "      '13': {'is_sente': False, 'loc': '13', 'name': 'FU'},\n",
       "      '14': None,\n",
       "      '15': None,\n",
       "      '16': None,\n",
       "      '17': {'is_sente': True, 'loc': '17', 'name': 'FU'},\n",
       "      '18': None,\n",
       "      '19': {'is_sente': True, 'loc': '19', 'name': 'KY'},\n",
       "      '21': {'is_sente': False, 'loc': '21', 'name': 'KE'},\n",
       "      '22': {'is_sente': False, 'loc': '22', 'name': 'KA'},\n",
       "      '23': {'is_sente': False, 'loc': '23', 'name': 'FU'},\n",
       "      '24': None,\n",
       "      '25': None,\n",
       "      '26': None,\n",
       "      '27': {'is_sente': True, 'loc': '27', 'name': 'FU'},\n",
       "      '28': {'is_sente': True, 'loc': '28', 'name': 'HI'},\n",
       "      '29': {'is_sente': True, 'loc': '29', 'name': 'KE'},\n",
       "      '31': {'is_sente': False, 'loc': '31', 'name': 'GI'},\n",
       "      '32': None,\n",
       "      '33': {'is_sente': False, 'loc': '33', 'name': 'FU'},\n",
       "      '34': None,\n",
       "      '35': None,\n",
       "      '36': None,\n",
       "      '37': {'is_sente': True, 'loc': '37', 'name': 'FU'},\n",
       "      '38': None,\n",
       "      '39': {'is_sente': True, 'loc': '39', 'name': 'GI'},\n",
       "      '41': {'is_sente': False, 'loc': '41', 'name': 'KI'},\n",
       "      '42': None,\n",
       "      '43': {'is_sente': False, 'loc': '43', 'name': 'FU'},\n",
       "      '44': None,\n",
       "      '45': None,\n",
       "      '46': None,\n",
       "      '47': {'is_sente': True, 'loc': '47', 'name': 'FU'},\n",
       "      '48': None,\n",
       "      '49': {'is_sente': True, 'loc': '49', 'name': 'KI'},\n",
       "      '51': {'is_sente': False, 'loc': '51', 'name': 'OU'},\n",
       "      '52': None,\n",
       "      '53': {'is_sente': False, 'loc': '53', 'name': 'FU'},\n",
       "      '54': None,\n",
       "      '55': None,\n",
       "      '56': None,\n",
       "      '57': {'is_sente': True, 'loc': '57', 'name': 'FU'},\n",
       "      '58': None,\n",
       "      '59': {'is_sente': True, 'loc': '59', 'name': 'OU'},\n",
       "      '61': {'is_sente': False, 'loc': '61', 'name': 'KI'},\n",
       "      '62': None,\n",
       "      '63': {'is_sente': False, 'loc': '63', 'name': 'FU'},\n",
       "      '64': None,\n",
       "      '65': None,\n",
       "      '66': None,\n",
       "      '67': {'is_sente': True, 'loc': '67', 'name': 'FU'},\n",
       "      '68': None,\n",
       "      '69': {'is_sente': True, 'loc': '69', 'name': 'KI'},\n",
       "      '71': {'is_sente': False, 'loc': '71', 'name': 'GI'},\n",
       "      '72': None,\n",
       "      '73': {'is_sente': False, 'loc': '73', 'name': 'FU'},\n",
       "      '74': None,\n",
       "      '75': None,\n",
       "      '76': None,\n",
       "      '77': {'is_sente': True, 'loc': '77', 'name': 'FU'},\n",
       "      '78': None,\n",
       "      '79': {'is_sente': True, 'loc': '79', 'name': 'GI'},\n",
       "      '81': {'is_sente': False, 'loc': '81', 'name': 'KE'},\n",
       "      '82': {'is_sente': False, 'loc': '82', 'name': 'HI'},\n",
       "      '83': {'is_sente': False, 'loc': '83', 'name': 'FU'},\n",
       "      '84': None,\n",
       "      '85': None,\n",
       "      '86': None,\n",
       "      '87': {'is_sente': True, 'loc': '87', 'name': 'FU'},\n",
       "      '88': {'is_sente': True, 'loc': '88', 'name': 'KA'},\n",
       "      '89': {'is_sente': True, 'loc': '89', 'name': 'KE'},\n",
       "      '91': {'is_sente': False, 'loc': '91', 'name': 'KY'},\n",
       "      '92': None,\n",
       "      '93': {'is_sente': False, 'loc': '93', 'name': 'FU'},\n",
       "      '94': None,\n",
       "      '95': None,\n",
       "      '96': None,\n",
       "      '97': {'is_sente': True, 'loc': '97', 'name': 'FU'},\n",
       "      '98': None,\n",
       "      '99': {'is_sente': True, 'loc': '99', 'name': 'KY'}}},\n",
       "    'board_history': [],\n",
       "    'is_sente': True,\n",
       "    'legal_moves': ['1716',\n",
       "     '1918',\n",
       "     '2726',\n",
       "     '2838',\n",
       "     '2848',\n",
       "     '2858',\n",
       "     '2868',\n",
       "     '2878',\n",
       "     '2818',\n",
       "     '3736',\n",
       "     '3938',\n",
       "     '3948',\n",
       "     '4746',\n",
       "     '4938',\n",
       "     '4948',\n",
       "     '4958',\n",
       "     '5756',\n",
       "     '5948',\n",
       "     '5958',\n",
       "     '5968',\n",
       "     '6766',\n",
       "     '6958',\n",
       "     '6968',\n",
       "     '6978',\n",
       "     '7776',\n",
       "     '7968',\n",
       "     '7978',\n",
       "     '8786',\n",
       "     '9796',\n",
       "     '9998']}],\n",
       "  'is_sente': True,\n",
       "  'legal_moves': ['1716',\n",
       "   '1918',\n",
       "   '2726',\n",
       "   '2838',\n",
       "   '2848',\n",
       "   '2858',\n",
       "   '2868',\n",
       "   '2878',\n",
       "   '2818',\n",
       "   '3736',\n",
       "   '3938',\n",
       "   '3948',\n",
       "   '4746',\n",
       "   '4938',\n",
       "   '4948',\n",
       "   '4958',\n",
       "   '5756',\n",
       "   '5948',\n",
       "   '5958',\n",
       "   '5968',\n",
       "   '6766',\n",
       "   '6958',\n",
       "   '6968',\n",
       "   '6978',\n",
       "   '7776',\n",
       "   '7968',\n",
       "   '7978',\n",
       "   '8786',\n",
       "   '9796',\n",
       "   '9998']},\n",
       " 'is_watching': False,\n",
       " 'message': {'light_up': ['14', '54']},\n",
       " 'order_in_parent': 1}"
      ]
     },
     "execution_count": 6,
     "metadata": {},
     "output_type": "execute_result"
    }
   ],
   "source": [
    "history[1]"
   ]
  },
  {
   "cell_type": "code",
   "execution_count": 7,
   "metadata": {},
   "outputs": [],
   "source": [
    "from make_movie.history_to_movie import *"
   ]
  },
  {
   "cell_type": "code",
   "execution_count": 8,
   "metadata": {},
   "outputs": [
    {
     "name": "stdout",
     "output_type": "stream",
     "text": [
      "{'light_up': ['14', '54']}\n"
     ]
    }
   ],
   "source": [
    "message = history[1][\"message\"]\n",
    "print(message)"
   ]
  },
  {
   "cell_type": "code",
   "execution_count": null,
   "metadata": {},
   "outputs": [],
   "source": []
  },
  {
   "cell_type": "code",
   "execution_count": 9,
   "metadata": {},
   "outputs": [],
   "source": [
    "with_text = copy.deepcopy(history[1])\n",
    "# with_text[\"message\"][\"text\"] = \"お\"\n",
    "action_to_image(with_text, \"./test.png\")"
   ]
  },
  {
   "cell_type": "code",
   "execution_count": 10,
   "metadata": {},
   "outputs": [
    {
     "ename": "SystemExit",
     "evalue": "",
     "output_type": "error",
     "traceback": [
      "An exception has occurred, use %tb to see the full traceback.\n",
      "\u001b[0;31mSystemExit\u001b[0m\n"
     ]
    },
    {
     "name": "stderr",
     "output_type": "stream",
     "text": [
      "/Users/nohara/.virtualenvs/python_3/lib/python3.6/site-packages/IPython/core/interactiveshell.py:2918: UserWarning: To exit: use 'exit', 'quit', or Ctrl-D.\n",
      "  warn(\"To exit: use 'exit', 'quit', or Ctrl-D.\", stacklevel=1)\n"
     ]
    }
   ],
   "source": [
    "sys.exit()"
   ]
  },
  {
   "cell_type": "code",
   "execution_count": null,
   "metadata": {},
   "outputs": [],
   "source": []
  },
  {
   "cell_type": "code",
   "execution_count": null,
   "metadata": {},
   "outputs": [],
   "source": [
    "history = result[\"history\"]"
   ]
  },
  {
   "cell_type": "code",
   "execution_count": null,
   "metadata": {},
   "outputs": [],
   "source": [
    "if os.path.exists(\"./results/\"):\n",
    "    shutil.rmtree(\"./results/\")\n",
    "os.makedirs(\"./results\")"
   ]
  },
  {
   "cell_type": "code",
   "execution_count": null,
   "metadata": {},
   "outputs": [],
   "source": [
    "history_to_movies(history, \"./samples/\", \"./results\")"
   ]
  },
  {
   "cell_type": "code",
   "execution_count": null,
   "metadata": {},
   "outputs": [],
   "source": [
    "sys.exit()"
   ]
  },
  {
   "cell_type": "code",
   "execution_count": null,
   "metadata": {},
   "outputs": [],
   "source": []
  },
  {
   "cell_type": "code",
   "execution_count": null,
   "metadata": {},
   "outputs": [],
   "source": [
    "ls"
   ]
  },
  {
   "cell_type": "code",
   "execution_count": null,
   "metadata": {},
   "outputs": [],
   "source": [
    "save_dir = \"./samples\"\n",
    "if not os.path.exists(save_dir):\n",
    "    os.makedirs(save_dir)"
   ]
  },
  {
   "cell_type": "code",
   "execution_count": null,
   "metadata": {},
   "outputs": [],
   "source": [
    "from make_movie.history_to_movie import *"
   ]
  },
  {
   "cell_type": "code",
   "execution_count": null,
   "metadata": {},
   "outputs": [],
   "source": [
    "recorder = ImageNameRecorder(save_dir)"
   ]
  },
  {
   "cell_type": "code",
   "execution_count": null,
   "metadata": {},
   "outputs": [],
   "source": [
    "history_to_images(history, recorder)"
   ]
  },
  {
   "cell_type": "code",
   "execution_count": null,
   "metadata": {},
   "outputs": [],
   "source": [
    "recorder.cut_heads"
   ]
  },
  {
   "cell_type": "code",
   "execution_count": null,
   "metadata": {},
   "outputs": [],
   "source": [
    "int(\"002\")"
   ]
  },
  {
   "cell_type": "code",
   "execution_count": null,
   "metadata": {},
   "outputs": [],
   "source": [
    "fname = recorder.cut_heads[0]\n",
    "fname"
   ]
  },
  {
   "cell_type": "code",
   "execution_count": null,
   "metadata": {},
   "outputs": [],
   "source": [
    "int(os.path.basename(fname).split(\".\")[0].split(\"_\")[-1])"
   ]
  },
  {
   "cell_type": "code",
   "execution_count": null,
   "metadata": {},
   "outputs": [],
   "source": [
    "recorder.counter"
   ]
  },
  {
   "cell_type": "code",
   "execution_count": null,
   "metadata": {},
   "outputs": [],
   "source": []
  }
 ],
 "metadata": {
  "kernelspec": {
   "display_name": "Python 3",
   "language": "python",
   "name": "python3"
  },
  "language_info": {
   "codemirror_mode": {
    "name": "ipython",
    "version": 3
   },
   "file_extension": ".py",
   "mimetype": "text/x-python",
   "name": "python",
   "nbconvert_exporter": "python",
   "pygments_lexer": "ipython3",
   "version": "3.6.3"
  }
 },
 "nbformat": 4,
 "nbformat_minor": 2
}
